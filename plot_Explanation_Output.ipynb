{
 "cells": [
  {
   "cell_type": "code",
   "execution_count": 1,
   "metadata": {},
   "outputs": [],
   "source": [
    "import pandas as pd\n",
    "import numpy as np"
   ]
  },
  {
   "cell_type": "code",
   "execution_count": 2,
   "metadata": {},
   "outputs": [],
   "source": [
    "import matplotlib.pyplot as plt\n"
   ]
  },
  {
   "cell_type": "code",
   "execution_count": 3,
   "metadata": {},
   "outputs": [
    {
     "data": {
      "text/plain": [
       "'C:\\\\Users\\\\Chennaf\\\\Downloads'"
      ]
     },
     "execution_count": 3,
     "metadata": {},
     "output_type": "execute_result"
    }
   ],
   "source": [
    "import os \n",
    "os.getcwd()"
   ]
  },
  {
   "cell_type": "code",
   "execution_count": 4,
   "metadata": {},
   "outputs": [
    {
     "data": {
      "text/html": [
       "<div>\n",
       "<style scoped>\n",
       "    .dataframe tbody tr th:only-of-type {\n",
       "        vertical-align: middle;\n",
       "    }\n",
       "\n",
       "    .dataframe tbody tr th {\n",
       "        vertical-align: top;\n",
       "    }\n",
       "\n",
       "    .dataframe thead th {\n",
       "        text-align: right;\n",
       "    }\n",
       "</style>\n",
       "<table border=\"1\" class=\"dataframe\">\n",
       "  <thead>\n",
       "    <tr style=\"text-align: right;\">\n",
       "      <th></th>\n",
       "      <th>Unnamed: 0</th>\n",
       "      <th>Out_Activation Maximization</th>\n",
       "      <th>Out_Activation clusters</th>\n",
       "      <th>Out_Caption generation</th>\n",
       "      <th>Out_Conditional</th>\n",
       "      <th>Out_DR</th>\n",
       "      <th>Out_DT</th>\n",
       "      <th>Out_Dependence</th>\n",
       "      <th>Out_FI</th>\n",
       "      <th>Out_Influence functions</th>\n",
       "      <th>Out_Other</th>\n",
       "      <th>Out_PDP</th>\n",
       "      <th>Out_SA</th>\n",
       "      <th>Out_Saliency</th>\n",
       "      <th>Out_Shapley plots</th>\n",
       "      <th>Out_hidden layer visualization</th>\n",
       "    </tr>\n",
       "  </thead>\n",
       "  <tbody>\n",
       "    <tr>\n",
       "      <td>0</td>\n",
       "      <td>0</td>\n",
       "      <td>0.600000</td>\n",
       "      <td>0.662500</td>\n",
       "      <td>0.608333</td>\n",
       "      <td>0.562500</td>\n",
       "      <td>1.00000</td>\n",
       "      <td>0.112500</td>\n",
       "      <td>0.562500</td>\n",
       "      <td>0.0</td>\n",
       "      <td>0.0</td>\n",
       "      <td>0.0</td>\n",
       "      <td>0.737500</td>\n",
       "      <td>1.366667</td>\n",
       "      <td>0.6625</td>\n",
       "      <td>0.562500</td>\n",
       "      <td>0.0</td>\n",
       "    </tr>\n",
       "    <tr>\n",
       "      <td>1</td>\n",
       "      <td>1</td>\n",
       "      <td>0.793750</td>\n",
       "      <td>0.800000</td>\n",
       "      <td>0.834375</td>\n",
       "      <td>0.971875</td>\n",
       "      <td>1.83125</td>\n",
       "      <td>0.856250</td>\n",
       "      <td>0.971875</td>\n",
       "      <td>0.0</td>\n",
       "      <td>0.0</td>\n",
       "      <td>0.0</td>\n",
       "      <td>0.925000</td>\n",
       "      <td>2.768750</td>\n",
       "      <td>0.9500</td>\n",
       "      <td>0.971875</td>\n",
       "      <td>0.0</td>\n",
       "    </tr>\n",
       "    <tr>\n",
       "      <td>2</td>\n",
       "      <td>2</td>\n",
       "      <td>0.667500</td>\n",
       "      <td>0.782500</td>\n",
       "      <td>0.672500</td>\n",
       "      <td>0.740000</td>\n",
       "      <td>1.47750</td>\n",
       "      <td>0.545000</td>\n",
       "      <td>0.740000</td>\n",
       "      <td>0.0</td>\n",
       "      <td>0.0</td>\n",
       "      <td>0.0</td>\n",
       "      <td>0.862500</td>\n",
       "      <td>2.210000</td>\n",
       "      <td>0.8100</td>\n",
       "      <td>0.740000</td>\n",
       "      <td>0.0</td>\n",
       "    </tr>\n",
       "    <tr>\n",
       "      <td>3</td>\n",
       "      <td>3</td>\n",
       "      <td>0.687083</td>\n",
       "      <td>0.748333</td>\n",
       "      <td>0.705069</td>\n",
       "      <td>0.758125</td>\n",
       "      <td>1.43625</td>\n",
       "      <td>0.504583</td>\n",
       "      <td>0.758125</td>\n",
       "      <td>0.0</td>\n",
       "      <td>0.0</td>\n",
       "      <td>0.0</td>\n",
       "      <td>0.841667</td>\n",
       "      <td>2.115139</td>\n",
       "      <td>0.8075</td>\n",
       "      <td>0.758125</td>\n",
       "      <td>0.0</td>\n",
       "    </tr>\n",
       "  </tbody>\n",
       "</table>\n",
       "</div>"
      ],
      "text/plain": [
       "   Unnamed: 0  Out_Activation Maximization  Out_Activation clusters  \\\n",
       "0           0                     0.600000                 0.662500   \n",
       "1           1                     0.793750                 0.800000   \n",
       "2           2                     0.667500                 0.782500   \n",
       "3           3                     0.687083                 0.748333   \n",
       "\n",
       "   Out_Caption generation  Out_Conditional   Out_DR    Out_DT  Out_Dependence  \\\n",
       "0                0.608333         0.562500  1.00000  0.112500        0.562500   \n",
       "1                0.834375         0.971875  1.83125  0.856250        0.971875   \n",
       "2                0.672500         0.740000  1.47750  0.545000        0.740000   \n",
       "3                0.705069         0.758125  1.43625  0.504583        0.758125   \n",
       "\n",
       "   Out_FI  Out_Influence functions  Out_Other   Out_PDP    Out_SA  \\\n",
       "0     0.0                      0.0        0.0  0.737500  1.366667   \n",
       "1     0.0                      0.0        0.0  0.925000  2.768750   \n",
       "2     0.0                      0.0        0.0  0.862500  2.210000   \n",
       "3     0.0                      0.0        0.0  0.841667  2.115139   \n",
       "\n",
       "   Out_Saliency  Out_Shapley plots  Out_hidden layer visualization  \n",
       "0        0.6625           0.562500                             0.0  \n",
       "1        0.9500           0.971875                             0.0  \n",
       "2        0.8100           0.740000                             0.0  \n",
       "3        0.8075           0.758125                             0.0  "
      ]
     },
     "execution_count": 4,
     "metadata": {},
     "output_type": "execute_result"
    }
   ],
   "source": [
    "df = pd.read_csv(r\"C:\\\\Users\\Chennaf\\Documents\\out.csv\" , delimiter =',')\n",
    "df.head()"
   ]
  },
  {
   "cell_type": "code",
   "execution_count": 5,
   "metadata": {},
   "outputs": [],
   "source": [
    "df = df[[ 'Out_Activation Maximization', 'Out_Activation clusters', 'Out_Caption generation',\n",
    "       'Out_Conditional', 'Out_DR', 'Out_DT', 'Out_Dependence',\n",
    "       'Out_FI', 'Out_Influence functions', 'Out_Other', 'Out_PDP',\n",
    "       'Out_SA', 'Out_Saliency', 'Out_Shapley plots', 'Out_hidden layer visualization']]"
   ]
  },
  {
   "cell_type": "code",
   "execution_count": null,
   "metadata": {},
   "outputs": [],
   "source": []
  },
  {
   "cell_type": "code",
   "execution_count": 6,
   "metadata": {},
   "outputs": [
    {
     "data": {
      "text/html": [
       "<div>\n",
       "<style scoped>\n",
       "    .dataframe tbody tr th:only-of-type {\n",
       "        vertical-align: middle;\n",
       "    }\n",
       "\n",
       "    .dataframe tbody tr th {\n",
       "        vertical-align: top;\n",
       "    }\n",
       "\n",
       "    .dataframe thead th {\n",
       "        text-align: right;\n",
       "    }\n",
       "</style>\n",
       "<table border=\"1\" class=\"dataframe\">\n",
       "  <thead>\n",
       "    <tr style=\"text-align: right;\">\n",
       "      <th></th>\n",
       "      <th>index</th>\n",
       "      <th>0</th>\n",
       "      <th>1</th>\n",
       "      <th>2</th>\n",
       "      <th>3</th>\n",
       "    </tr>\n",
       "  </thead>\n",
       "  <tbody>\n",
       "    <tr>\n",
       "      <td>0</td>\n",
       "      <td>Out_Activation Maximization</td>\n",
       "      <td>0.600000</td>\n",
       "      <td>0.793750</td>\n",
       "      <td>0.6675</td>\n",
       "      <td>0.687083</td>\n",
       "    </tr>\n",
       "    <tr>\n",
       "      <td>1</td>\n",
       "      <td>Out_Activation clusters</td>\n",
       "      <td>0.662500</td>\n",
       "      <td>0.800000</td>\n",
       "      <td>0.7825</td>\n",
       "      <td>0.748333</td>\n",
       "    </tr>\n",
       "    <tr>\n",
       "      <td>2</td>\n",
       "      <td>Out_Caption generation</td>\n",
       "      <td>0.608333</td>\n",
       "      <td>0.834375</td>\n",
       "      <td>0.6725</td>\n",
       "      <td>0.705069</td>\n",
       "    </tr>\n",
       "    <tr>\n",
       "      <td>3</td>\n",
       "      <td>Out_Conditional</td>\n",
       "      <td>0.562500</td>\n",
       "      <td>0.971875</td>\n",
       "      <td>0.7400</td>\n",
       "      <td>0.758125</td>\n",
       "    </tr>\n",
       "    <tr>\n",
       "      <td>4</td>\n",
       "      <td>Out_DR</td>\n",
       "      <td>1.000000</td>\n",
       "      <td>1.831250</td>\n",
       "      <td>1.4775</td>\n",
       "      <td>1.436250</td>\n",
       "    </tr>\n",
       "  </tbody>\n",
       "</table>\n",
       "</div>"
      ],
      "text/plain": [
       "                         index         0         1       2         3\n",
       "0  Out_Activation Maximization  0.600000  0.793750  0.6675  0.687083\n",
       "1      Out_Activation clusters  0.662500  0.800000  0.7825  0.748333\n",
       "2       Out_Caption generation  0.608333  0.834375  0.6725  0.705069\n",
       "3              Out_Conditional  0.562500  0.971875  0.7400  0.758125\n",
       "4                       Out_DR  1.000000  1.831250  1.4775  1.436250"
      ]
     },
     "execution_count": 6,
     "metadata": {},
     "output_type": "execute_result"
    }
   ],
   "source": [
    "dt = df.T\n",
    "dt = dt.reset_index()\n",
    "dt.head()"
   ]
  },
  {
   "cell_type": "code",
   "execution_count": 7,
   "metadata": {},
   "outputs": [
    {
     "data": {
      "text/html": [
       "<div>\n",
       "<style scoped>\n",
       "    .dataframe tbody tr th:only-of-type {\n",
       "        vertical-align: middle;\n",
       "    }\n",
       "\n",
       "    .dataframe tbody tr th {\n",
       "        vertical-align: top;\n",
       "    }\n",
       "\n",
       "    .dataframe thead th {\n",
       "        text-align: right;\n",
       "    }\n",
       "</style>\n",
       "<table border=\"1\" class=\"dataframe\">\n",
       "  <thead>\n",
       "    <tr style=\"text-align: right;\">\n",
       "      <th></th>\n",
       "      <th>index</th>\n",
       "      <th>0</th>\n",
       "      <th>1</th>\n",
       "      <th>2</th>\n",
       "      <th>3</th>\n",
       "    </tr>\n",
       "  </thead>\n",
       "  <tbody>\n",
       "    <tr>\n",
       "      <td>0</td>\n",
       "      <td>Out_Activation Maximization</td>\n",
       "      <td>0.600000</td>\n",
       "      <td>0.793750</td>\n",
       "      <td>0.6675</td>\n",
       "      <td>0.687083</td>\n",
       "    </tr>\n",
       "    <tr>\n",
       "      <td>1</td>\n",
       "      <td>Out_Activation clusters</td>\n",
       "      <td>0.662500</td>\n",
       "      <td>0.800000</td>\n",
       "      <td>0.7825</td>\n",
       "      <td>0.748333</td>\n",
       "    </tr>\n",
       "    <tr>\n",
       "      <td>2</td>\n",
       "      <td>Out_Caption generation</td>\n",
       "      <td>0.608333</td>\n",
       "      <td>0.834375</td>\n",
       "      <td>0.6725</td>\n",
       "      <td>0.705069</td>\n",
       "    </tr>\n",
       "    <tr>\n",
       "      <td>3</td>\n",
       "      <td>Out_Conditional</td>\n",
       "      <td>0.562500</td>\n",
       "      <td>0.971875</td>\n",
       "      <td>0.7400</td>\n",
       "      <td>0.758125</td>\n",
       "    </tr>\n",
       "    <tr>\n",
       "      <td>4</td>\n",
       "      <td>Out_DR</td>\n",
       "      <td>1.000000</td>\n",
       "      <td>1.831250</td>\n",
       "      <td>1.4775</td>\n",
       "      <td>1.436250</td>\n",
       "    </tr>\n",
       "  </tbody>\n",
       "</table>\n",
       "</div>"
      ],
      "text/plain": [
       "                         index         0         1       2         3\n",
       "0  Out_Activation Maximization  0.600000  0.793750  0.6675  0.687083\n",
       "1      Out_Activation clusters  0.662500  0.800000  0.7825  0.748333\n",
       "2       Out_Caption generation  0.608333  0.834375  0.6725  0.705069\n",
       "3              Out_Conditional  0.562500  0.971875  0.7400  0.758125\n",
       "4                       Out_DR  1.000000  1.831250  1.4775  1.436250"
      ]
     },
     "execution_count": 7,
     "metadata": {},
     "output_type": "execute_result"
    }
   ],
   "source": [
    "dt.columns = ['index', '0', '1', '2', '3']\n",
    "dt.head()"
   ]
  },
  {
   "cell_type": "code",
   "execution_count": 10,
   "metadata": {},
   "outputs": [
    {
     "data": {
      "image/png": "[encoded data removed]",
      "text/plain": [
       "<Figure size 432x288 with 1 Axes>"
      ]
     },
     "metadata": {
      "needs_background": "light"
     },
     "output_type": "display_data"
    }
   ],
   "source": [
    "fig, ax = plt.subplots()\n",
    "ax.scatter(dt['index'], dt['0'], label=\"End user\")\n",
    "ax.scatter(dt['index'], dt['1'], label=\"Expert\")\n",
    "ax.scatter(dt['index'], dt['2'], label=\"Junior\")\n",
    "ax.plot(dt['index'], dt['3'], label=\"Global rating\",color='red')\n",
    "\n",
    "ax.legend()\n",
    "plt.xticks(rotation=90)\n",
    "\n",
    "plt.show()"
   ]
  },
  {
   "cell_type": "code",
   "execution_count": null,
   "metadata": {},
   "outputs": [],
   "source": []
  }
 ],
 "metadata": {
  "kernelspec": {
   "display_name": "Python 3",
   "language": "python",
   "name": "python3"
  },
  "language_info": {
   "codemirror_mode": {
    "name": "ipython",
    "version": 3
   },
   "file_extension": ".py",
   "mimetype": "text/x-python",
   "name": "python",
   "nbconvert_exporter": "python",
   "pygments_lexer": "ipython3",
   "version": "3.7.4"
  }
 },
 "nbformat": 4,
 "nbformat_minor": 4
}
